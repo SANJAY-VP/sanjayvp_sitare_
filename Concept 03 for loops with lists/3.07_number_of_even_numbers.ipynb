{
 "cells": [
  {
   "cell_type": "markdown",
   "metadata": {},
   "source": [
    "# Qn.7 Given a list of numbers, find out how many even numbers it has."
   ]
  },
  {
   "cell_type": "code",
   "execution_count": null,
   "metadata": {},
   "outputs": [],
   "source": [
    "def even_sum(my_list):\n",
    "    count=0\n",
    "#even number gives remainder zero on division by 2\n",
    "#if the number is even,count variable increases its value by 1\n",
    "    for i in my_list:\n",
    "        if i%2==0:\n",
    "            count+=1\n",
    "    return count\n",
    "\n",
    "my_list=[1,2,3,4,5,6,7,8,9,0]\n",
    "even_sum(my_list)"
   ]
  }
 ],
 "metadata": {
  "kernelspec": {
   "display_name": "Python 3",
   "language": "python",
   "name": "python3"
  },
  "language_info": {
   "codemirror_mode": {
    "name": "ipython",
    "version": 3
   },
   "file_extension": ".py",
   "mimetype": "text/x-python",
   "name": "python",
   "nbconvert_exporter": "python",
   "pygments_lexer": "ipython3",
   "version": "3.11.6"
  }
 },
 "nbformat": 4,
 "nbformat_minor": 2
}
