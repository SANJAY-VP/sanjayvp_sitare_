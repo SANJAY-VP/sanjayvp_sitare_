{
 "cells": [
  {
   "cell_type": "markdown",
   "metadata": {},
   "source": [
    "# Qn.6 Create a dictionary to store the total marks of 5 students in the class in 3 subjects (Course1, Course2, Course3). The keys must be the student names, and the values must be the list of marks. Create another list which has the course names in the same order as the marks are stored in the dictionary values. Now write a nested for loop to print the marks for each student exam wise."
   ]
  },
  {
   "cell_type": "code",
   "execution_count": null,
   "metadata": {},
   "outputs": [],
   "source": [
    "dict1={'Student1':[91,62,93],'Student2':[94,55,96],'Student3':[97,89,99],'Student4':[91,62,93],'Student5':[91,62,93]}\n",
    "li_course=['course1','course2','course3']\n",
    "# iterating through the dictionary items\n",
    "for keys,values in dict1.items():\n",
    "    print(keys)\n",
    "    count=0\n",
    "# counting in the loop to call corresponding elements from list\n",
    "    for i in values:\n",
    "# counting after print statement to include zero index\n",
    "        print(li_course[count],\":\",i) \n",
    "        count+=1"
   ]
  }
 ],
 "metadata": {
  "kernelspec": {
   "display_name": "Python 3",
   "language": "python",
   "name": "python3"
  },
  "language_info": {
   "codemirror_mode": {
    "name": "ipython",
    "version": 3
   },
   "file_extension": ".py",
   "mimetype": "text/x-python",
   "name": "python",
   "nbconvert_exporter": "python",
   "pygments_lexer": "ipython3",
   "version": "3.11.6"
  }
 },
 "nbformat": 4,
 "nbformat_minor": 2
}
