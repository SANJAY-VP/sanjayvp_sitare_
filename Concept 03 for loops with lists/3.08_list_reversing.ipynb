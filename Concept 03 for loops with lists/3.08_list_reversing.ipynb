{
 "cells": [
  {
   "cell_type": "markdown",
   "metadata": {},
   "source": [
    "# Qn8. Given a list of numbers, create another list in reverse order."
   ]
  },
  {
   "cell_type": "code",
   "execution_count": null,
   "metadata": {},
   "outputs": [],
   "source": [
    "def reverse_list(my_list):\n",
    "    new_list=[]\n",
    "#counting in the reverse order,and adding the corresponding element to the list\n",
    "    for i in range(len(my_list),0,-1):\n",
    "        new_list.append(my_list[i-1])\n",
    "    return new_list\n",
    "\n",
    "my_list=[1,2,3,4,5,6,7,8,9,0]\n",
    "reverse_list(my_list)"
   ]
  }
 ],
 "metadata": {
  "kernelspec": {
   "display_name": "Python 3",
   "language": "python",
   "name": "python3"
  },
  "language_info": {
   "codemirror_mode": {
    "name": "ipython",
    "version": 3
   },
   "file_extension": ".py",
   "mimetype": "text/x-python",
   "name": "python",
   "nbconvert_exporter": "python",
   "pygments_lexer": "ipython3",
   "version": "3.11.6"
  }
 },
 "nbformat": 4,
 "nbformat_minor": 2
}
