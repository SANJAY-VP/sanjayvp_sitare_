{
 "cells": [
  {
   "cell_type": "markdown",
   "metadata": {},
   "source": [
    "Given a list of numbers, sort it in ascending order."
   ]
  },
  {
   "cell_type": "code",
   "execution_count": 1,
   "metadata": {},
   "outputs": [
    {
     "name": "stdout",
     "output_type": "stream",
     "text": [
      "ascending order: [-5, -3, -3, 1, 1, 2, 4, 4, 4]\n"
     ]
    }
   ],
   "source": [
    "# creating a function to find minimum of the list\n",
    "def minim(list1):\n",
    "    output=list1[0]\n",
    "    for i in range(1,len(list1)):\n",
    "        if list1[i]<output:\n",
    "            output=list1[i]\n",
    "    return output\n",
    "\n",
    "list_input=[1,2,-3,4,4,4,1,-5,-3]\n",
    "list_ascending=[]\n",
    "length=len(list_input)\n",
    "for i in range(length):\n",
    "# var changes its value if it encounters any value less than it\n",
    "    var=minim(list_input)\n",
    "    if i not in list_ascending:\n",
    "        list_ascending.append(var)\n",
    "        list_input.remove(var)\n",
    "print(\"ascending order:\",list_ascending)"
   ]
  }
 ],
 "metadata": {
  "kernelspec": {
   "display_name": "Python 3",
   "language": "python",
   "name": "python3"
  },
  "language_info": {
   "codemirror_mode": {
    "name": "ipython",
    "version": 3
   },
   "file_extension": ".py",
   "mimetype": "text/x-python",
   "name": "python",
   "nbconvert_exporter": "python",
   "pygments_lexer": "ipython3",
   "version": "3.11.6"
  }
 },
 "nbformat": 4,
 "nbformat_minor": 2
}
