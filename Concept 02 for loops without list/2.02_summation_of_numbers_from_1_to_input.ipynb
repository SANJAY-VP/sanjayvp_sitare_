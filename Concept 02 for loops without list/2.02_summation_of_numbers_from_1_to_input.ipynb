{
 "cells": [
  {
   "cell_type": "markdown",
   "metadata": {},
   "source": [
    "# Q2. Given a positive integer, find out the sum of all integers from 1 up to this number"
   ]
  },
  {
   "cell_type": "code",
   "execution_count": null,
   "metadata": {},
   "outputs": [],
   "source": [
    "num1=int(input(\"Enter a positive integer here\"))\n",
    "# defining a variable as zero.\n",
    "summation=0\n",
    "# adding every number to the variable through the loop.\n",
    "for i in range(1,num1+1):\n",
    "    summation+=i\n",
    "print(\"sum of all integers from 1 to\",num1,\"is:\",summation)"
   ]
  }
 ],
 "metadata": {
  "kernelspec": {
   "display_name": "Python 3",
   "language": "python",
   "name": "python3"
  },
  "language_info": {
   "codemirror_mode": {
    "name": "ipython",
    "version": 3
   },
   "file_extension": ".py",
   "mimetype": "text/x-python",
   "name": "python",
   "nbconvert_exporter": "python",
   "pygments_lexer": "ipython3",
   "version": "3.11.6"
  }
 },
 "nbformat": 4,
 "nbformat_minor": 2
}
