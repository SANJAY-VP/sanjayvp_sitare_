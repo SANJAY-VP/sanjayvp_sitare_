{
 "cells": [
  {
   "cell_type": "code",
   "execution_count": 6,
   "metadata": {},
   "outputs": [
    {
     "data": {
      "text/plain": [
       "'hello world'"
      ]
     },
     "execution_count": 6,
     "metadata": {},
     "output_type": "execute_result"
    }
   ],
   "source": [
    "# ind is 0 to translate english into morse code and 1 is for vice versa\n",
    "def morse_code_translator(message,ind):\n",
    "# creating list of all letters in the message\n",
    "# it will work for uppercase too\n",
    "    message=message.lower()\n",
    "    alpha_list=[]\n",
    "# if the message is in english adding all letters\n",
    "    if ind==0:\n",
    "        for i in range(len(message)):\n",
    "            alpha_list.append(message[i])\n",
    "# if it is in morse code, creating an empty string and adding all elements till a space comes\n",
    "# it is because two or more elements of morse code codes for 1 letter in english\n",
    "    else:\n",
    "# if no space after the message,loop will not consider last letter\n",
    "        message+=' '\n",
    "        alpha=''\n",
    "        for i in message:\n",
    "            if i==' ':\n",
    "                alpha_list.append(alpha)\n",
    "                alpha=''\n",
    "            else:\n",
    "                alpha+=i\n",
    "# dictionary of all letters\n",
    "    codedict={'a':'.-','b':'-...','c':'-.-.','d':'-..','e':'.','f':'..-.','g':'--.','h':'....','i':'..','j':'.---',\n",
    "            'k':'-.-','l':'.-..','m':'--','n':'-.','o':'---','p':'.--.','q':'--.-','r':'.-.','s':'...','t':'-',\n",
    "            'u':'..-','v':'...-','w':'.--','x':'-..-','y':'-.--','z':'--..', ' ':'/','0':'-----','1':'.----','2':'..---',\n",
    "            '3':'...--','4':'....-','5':'.....','6':'-....','7':'--...','8':'---..','9':'----.', ',':'--..--',\n",
    "            '?':'..--..','!':'-.-.--','(':'-.--.',')':'-.--.-','&':'.-...',':':'---...',';':'-.-.-.','=':'-...-',}\n",
    "\n",
    "#change alphabets of one language into another\n",
    "    for key,value in codedict.items():\n",
    "        count=0\n",
    "        for ele in alpha_list:\n",
    "# replacing the element by key if it is a value and vice versa\n",
    "            if ele==value:\n",
    "                alpha_list[count]=key\n",
    "            if ele==key:\n",
    "                alpha_list[count]=value\n",
    "            count+=1\n",
    "# join all elements of the list to get translation\n",
    "    output=''\n",
    "    for i in alpha_list:\n",
    "        output+=i\n",
    "# morse code contain space after every letter,so adding space after every element of the list\n",
    "        if ind==0:\n",
    "            output+=' '\n",
    "    return output\n",
    "morse_code_translator('.... . .-.. .-.. --- / .-- --- .-. .-.. -.. ',1)"
   ]
  }
 ],
 "metadata": {
  "kernelspec": {
   "display_name": "Python 3",
   "language": "python",
   "name": "python3"
  },
  "language_info": {
   "codemirror_mode": {
    "name": "ipython",
    "version": 3
   },
   "file_extension": ".py",
   "mimetype": "text/x-python",
   "name": "python",
   "nbconvert_exporter": "python",
   "pygments_lexer": "ipython3",
   "version": "3.11.6"
  }
 },
 "nbformat": 4,
 "nbformat_minor": 2
}
