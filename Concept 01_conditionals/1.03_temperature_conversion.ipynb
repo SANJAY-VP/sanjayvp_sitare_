{
 "cells": [
  {
   "cell_type": "markdown",
   "metadata": {},
   "source": [
    "# Q3. Given a temperature in Celsius, convert it to Fahrenheit using the formula F = (C * 1.8) + 32. If the temperature is above 90°F, print “It’s hot outside!” otherwise, print “The temperature is pleasant”."
   ]
  },
  {
   "cell_type": "code",
   "execution_count": null,
   "metadata": {},
   "outputs": [],
   "source": [
    "# taking the temperature in celsius. temperature can be a decimal number also.\n",
    "degree_celsius=float(input(\"enter the temperature in celsius\"))\n",
    "# using the given formula converting it into fahrenheit.\n",
    "fahrenheit=(degree_celsius*1.8)+32\n",
    "# comparing the temparatue with the given condition.\n",
    "if fahrenheit>90:\n",
    "    print(\"it's hot outside!\")\n",
    "else:\n",
    "    print(\"The temperature is pleasant\")"
   ]
  }
 ],
 "metadata": {
  "kernelspec": {
   "display_name": "Python 3",
   "language": "python",
   "name": "python3"
  },
  "language_info": {
   "codemirror_mode": {
    "name": "ipython",
    "version": 3
   },
   "file_extension": ".py",
   "mimetype": "text/x-python",
   "name": "python",
   "nbconvert_exporter": "python",
   "pygments_lexer": "ipython3",
   "version": "3.11.6"
  }
 },
 "nbformat": 4,
 "nbformat_minor": 2
}
