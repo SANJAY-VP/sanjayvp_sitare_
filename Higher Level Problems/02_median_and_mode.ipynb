{
 "cells": [
  {
   "cell_type": "markdown",
   "metadata": {},
   "source": [
    "Given a list of numbers, find out the median and mode."
   ]
  },
  {
   "cell_type": "code",
   "execution_count": 22,
   "metadata": {},
   "outputs": [
    {
     "name": "stdout",
     "output_type": "stream",
     "text": [
      "Median: 1.5\n"
     ]
    }
   ],
   "source": [
    "def minim(list1):\n",
    "    output=list1[0]\n",
    "# loop starts from 1 since we have already considered first element\n",
    "    for i in range(1,len(list1)):\n",
    "        if list1[i]<output:\n",
    "            output=list1[i]\n",
    "    return output\n",
    "\n",
    "list_input=[1,2,-3,4,4,4,1,5,-5,-3]\n",
    "list_ascending=[]\n",
    "length=len(list_input)\n",
    "# creating an ascending list of elements\n",
    "# adding minimum of the previous list into newlist on every step\n",
    "for i in range(length):\n",
    "    var=minim(list_input)\n",
    "    if i not in list_ascending:\n",
    "        list_ascending.append(var)\n",
    "        list_input.remove(var)\n",
    "# median is the average of middlemost elements or middlemost element itself\n",
    "if length%2==0:\n",
    "    median=(list_ascending[length//2]+list_ascending[(length//2)-1])/2\n",
    "else:\n",
    "    median=list_ascending[(length+1)//2]\n",
    "print(\"Median:\",median)"
   ]
  },
  {
   "cell_type": "code",
   "execution_count": 23,
   "metadata": {},
   "outputs": [
    {
     "name": "stdout",
     "output_type": "stream",
     "text": [
      "{-5: 1, -3: 2, 1: 2, 2: 1, 4: 3, 5: 1}\n",
      "Mode of the list is: 4\n"
     ]
    }
   ],
   "source": [
    "# Creating a dictionary containing number of occurance of each number\n",
    "dict1={}\n",
    "for i in list_ascending:\n",
    "    count=0\n",
    "    if i not in dict1.keys():\n",
    "        for j in list_ascending:\n",
    "            if i==j:\n",
    "                count+=1\n",
    "        dict1[i]=count\n",
    "print(dict1)\n",
    "# storing values in two new variables\n",
    "# count will be same as left in previous loop\n",
    "my_var=list_ascending[len(list_ascending)-1]\n",
    "maximum=count\n",
    "# if your j is greater then its key will be stored in my_var which is the mode\n",
    "for i,j in dict1.items():\n",
    "    if j>maximum:\n",
    "        maximum=j\n",
    "        my_var=i\n",
    "print('Mode of the list is:',my_var)"
   ]
  }
 ],
 "metadata": {
  "kernelspec": {
   "display_name": "Python 3",
   "language": "python",
   "name": "python3"
  },
  "language_info": {
   "codemirror_mode": {
    "name": "ipython",
    "version": 3
   },
   "file_extension": ".py",
   "mimetype": "text/x-python",
   "name": "python",
   "nbconvert_exporter": "python",
   "pygments_lexer": "ipython3",
   "version": "3.11.6"
  }
 },
 "nbformat": 4,
 "nbformat_minor": 2
}
