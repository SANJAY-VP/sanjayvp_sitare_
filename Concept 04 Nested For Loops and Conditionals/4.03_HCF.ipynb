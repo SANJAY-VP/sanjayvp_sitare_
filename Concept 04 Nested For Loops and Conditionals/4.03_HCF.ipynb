{
 "cells": [
  {
   "cell_type": "markdown",
   "metadata": {},
   "source": [
    "# Qn3. Given two numbers, find its Greatest Common Divisor (Divisor)."
   ]
  },
  {
   "cell_type": "code",
   "execution_count": null,
   "metadata": {},
   "outputs": [],
   "source": [
    "def hcf(num1,num2):\n",
    "    list1=[num1,num2]\n",
    "    list_factors=[]\n",
    "    list_common=[]\n",
    "# finding all divisors of both numbers and adding it to the list_factors\n",
    "    for i in list1:\n",
    "        for j in range(1,i+1):\n",
    "            if i%j==0:\n",
    "                list_factors.append(j)\n",
    "# finding repeated numbers in the list and adding it to the list_common. \n",
    "# elements in this list are common divisors of the given numbers\n",
    "    for i in list_factors:\n",
    "        count=0\n",
    "        for j in list_factors:\n",
    "            if i==j:\n",
    "                count+=1\n",
    "        if count==2:\n",
    "            list_common.append(i) \n",
    "# maximum number in the given list is the HCF of given numbers       \n",
    "    return max(list_common)\n",
    "\n",
    "hcf(91,92)"
   ]
  }
 ],
 "metadata": {
  "kernelspec": {
   "display_name": "Python 3",
   "language": "python",
   "name": "python3"
  },
  "language_info": {
   "codemirror_mode": {
    "name": "ipython",
    "version": 3
   },
   "file_extension": ".py",
   "mimetype": "text/x-python",
   "name": "python",
   "nbconvert_exporter": "python",
   "pygments_lexer": "ipython3",
   "version": "3.11.6"
  }
 },
 "nbformat": 4,
 "nbformat_minor": 2
}
