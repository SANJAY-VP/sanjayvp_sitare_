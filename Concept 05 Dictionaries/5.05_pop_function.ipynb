{
 "cells": [
  {
   "cell_type": "markdown",
   "metadata": {},
   "source": [
    "# Qn.5 Remove a key from a dictionary: dict_name.pop(key_name) What does this function return? Use pop to rename a key."
   ]
  },
  {
   "cell_type": "code",
   "execution_count": null,
   "metadata": {},
   "outputs": [],
   "source": [
    "sample_dict={\"name\":\"kelly\",\"age\":25,\"salary\":8000,\"city\":\"newyork\"}\n",
    "#pop function returns the value of the popped key and remove the key\n",
    "sample_dict.pop(\"name\")\n",
    "sample_dict[\"name\"]=input(\"Enter your alternate value here:\")\n",
    "print(sample_dict)"
   ]
  }
 ],
 "metadata": {
  "kernelspec": {
   "display_name": "Python 3",
   "language": "python",
   "name": "python3"
  },
  "language_info": {
   "codemirror_mode": {
    "name": "ipython",
    "version": 3
   },
   "file_extension": ".py",
   "mimetype": "text/x-python",
   "name": "python",
   "nbconvert_exporter": "python",
   "pygments_lexer": "ipython3",
   "version": "3.11.6"
  }
 },
 "nbformat": 4,
 "nbformat_minor": 2
}
