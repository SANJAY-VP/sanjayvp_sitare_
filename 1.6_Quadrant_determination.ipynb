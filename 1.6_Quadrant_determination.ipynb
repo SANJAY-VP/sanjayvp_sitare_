{
 "cells": [
  {
   "cell_type": "markdown",
   "metadata": {},
   "source": [
    "# Qn6. Given a point (x1, y1), find the quadrant in which this point lies."
   ]
  },
  {
   "cell_type": "code",
   "execution_count": null,
   "metadata": {},
   "outputs": [],
   "source": [
    "# taking user input to get the coordinates of the point. \n",
    "x1=float(input(\"what is the x coordinate of the point \"))\n",
    "y1=float(input(\"what is the y coordinate of the point \"))\n",
    "print(\"the given point is: (\",x1,\",\",y1,\")\")\n",
    "# if the point has positive x coordinate, it will lie on 1st,4th,or in positive x axis.\n",
    "if x1>0:\n",
    "    if y1>0:\n",
    "        print(\"the given point lies in first quadrant\")\n",
    "    elif y1<0:\n",
    "        print(\"the given point lies in fourth quadrant\")\n",
    "    else:\n",
    "        print(\"the given point is in positive x axis\")\n",
    "# if the point has negative x coordinate, it will lie on 2nd,3rd,or in negative x axis. \n",
    "elif x1<0:\n",
    "    if y1>0:\n",
    "        print(\"the given point lies in second quadrant\")\n",
    "    elif y1<0:\n",
    "        print(\"the given point lies in third quadrant\")\n",
    "    else:\n",
    "        print(\"the given point is in the negative x axis\")\n",
    "# if the x coordinate is zero, then point will lie on positive or negative y axis or the point itself may be origin. \n",
    "else:\n",
    "    if y1>0:\n",
    "        print(\"the given point lies in the positive y axis \")\n",
    "    elif y1<0:\n",
    "        print(\"the given point lies in the negative y axis\")\n",
    "    else:\n",
    "        print (\"the given point is origin \")\n",
    "# if we are combining two conditions by and, python will have to check maximum 9 conditions.but now maximum is 6 condition. "
   ]
  }
 ],
 "metadata": {
  "kernelspec": {
   "display_name": "Python 3",
   "language": "python",
   "name": "python3"
  },
  "language_info": {
   "codemirror_mode": {
    "name": "ipython",
    "version": 3
   },
   "file_extension": ".py",
   "mimetype": "text/x-python",
   "name": "python",
   "nbconvert_exporter": "python",
   "pygments_lexer": "ipython3",
   "version": "3.11.6"
  }
 },
 "nbformat": 4,
 "nbformat_minor": 2
}
