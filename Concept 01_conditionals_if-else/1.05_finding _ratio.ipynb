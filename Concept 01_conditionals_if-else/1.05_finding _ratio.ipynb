{
 "cells": [
  {
   "cell_type": "markdown",
   "metadata": {},
   "source": [
    " # Qn5.Given two numbers, a and b, find the value of a/b (b may be zero)."
   ]
  },
  {
   "cell_type": "code",
   "execution_count": null,
   "metadata": {},
   "outputs": [],
   "source": [
    "a=float(input(\"Enter your first number here\"))\n",
    "b=float(input(\"Enter your second number here\"))\n",
    "# inorder to avoid a zero division error,before division removing the case in which b is zero.\n",
    "if b==0:\n",
    "    print(\"we can't divide a number by zero.\")\n",
    "else:\n",
    "    print(\"The output is:\",a/b)      "
   ]
  }
 ],
 "metadata": {
  "kernelspec": {
   "display_name": "Python 3",
   "language": "python",
   "name": "python3"
  },
  "language_info": {
   "codemirror_mode": {
    "name": "ipython",
    "version": 3
   },
   "file_extension": ".py",
   "mimetype": "text/x-python",
   "name": "python",
   "nbconvert_exporter": "python",
   "pygments_lexer": "ipython3",
   "version": "3.11.6"
  }
 },
 "nbformat": 4,
 "nbformat_minor": 2
}
