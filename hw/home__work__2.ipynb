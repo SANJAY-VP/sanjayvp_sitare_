{
 "cells": [
  {
   "cell_type": "markdown",
   "metadata": {},
   "source": [
    "# Dividing a number by another number "
   ]
  },
  {
   "cell_type": "code",
   "execution_count": null,
   "metadata": {},
   "outputs": [],
   "source": [
    "# recieving a dividend and a divisor for the given operation .\n",
    "a=int(input(\"enter the dividend\"))\n",
    "b=int(input(\"enter the divisor\"))\n",
    "# division is not possible if divisor is zero .\n",
    "# remove this dilemma (before dividing) so as to avoid zero division error.\n",
    "if b==0:\n",
    "    print(\"zero can't be a divisor\")\n",
    "else :\n",
    "    c=a/b\n",
    "    print(\"your answer is\",c)"
   ]
  },
  {
   "cell_type": "markdown",
   "metadata": {},
   "source": [
    "# Determination of quadrant of a point "
   ]
  },
  {
   "cell_type": "code",
   "execution_count": null,
   "metadata": {},
   "outputs": [],
   "source": [
    "# taking user input to get the coordinates of the point. \n",
    "a=int(input (\"what is the x coordinate of the point \"))\n",
    "b=int(input (\"what is the y coordinate of the point \"))\n",
    "# if the point has positive x coordinate, it will lie on 1st or 4th quadrant or in positive x axis.\n",
    "if a>0 :\n",
    "    if b>0:\n",
    "        print(\"first quadrant\")\n",
    "    elif b<0:\n",
    "        print(\"forth quadrant\")\n",
    "    else:\n",
    "        print(\"the point is in positive x axis\")\n",
    "# if the point has negative x coordinate, it will lie on 2nd,3rd,or in negative x axis. \n",
    "elif a<0:\n",
    "    if b>0:\n",
    "        print(\"second quadrant\")\n",
    "    elif b<0:\n",
    "        print(\"third quadrant\")\n",
    "    else:\n",
    "        print(\"the point is in the negative x axis\")\n",
    "# if the x coordinate is zero, then point will lie on positive or negative y axis or the point itself may be origin. \n",
    "else:\n",
    "    if b>0:\n",
    "        print(\"the point is in the positive y axis \")\n",
    "    elif b<0:\n",
    "        print(\"the point is in the negative y axis\")\n",
    "    else:\n",
    "        print (\"the point is origin \")"
   ]
  },
  {
   "cell_type": "markdown",
   "metadata": {},
   "source": [
    "# To find the slope and y intercept of line formed by two points . "
   ]
  },
  {
   "cell_type": "code",
   "execution_count": null,
   "metadata": {},
   "outputs": [],
   "source": [
    "# user input for the coordinates of two points .\n",
    "a=int(input(\"what is the x coordinate of first point \"))\n",
    "b=int (input(\"what is the y coordinate of first point\"))\n",
    "c=int (input (\"what is the x coordinate of second point \"))\n",
    "d=int (input(\"what is the y coordinate of second point  \"))\n",
    "# if the line is parallel to y axis it has slope infinity. \n",
    "# if both point has same y coordinates then it is parallel to y axis.   \n",
    "# avoiding the zero division error using if statement .\n",
    "if c-a==0:\n",
    "    print(\"slope is infinity\")\n",
    "# equation for slope in two point form.\n",
    "else:\n",
    "    slope=(d-b)/(c-a)\n",
    "    print(\"slope of the line formed is \",slope)\n",
    "# derived formula for y intercept from  (y=mx+c).\n",
    "    num1=b-(slope*a)\n",
    "    print(\"y intercept is \",num1)"
   ]
  },
  {
   "cell_type": "markdown",
   "metadata": {},
   "source": [
    "# Converting temperature in fahrenheit to celsius and interpreting the weather of the day."
   ]
  },
  {
   "cell_type": "code",
   "execution_count": null,
   "metadata": {},
   "outputs": [],
   "source": [
    "# user input for temperature in fahrenheit.\n",
    "a=int(input(\"enter the temperature(in fahrenheit)\"))\n",
    "# converting fahrenheit to celsius using formula.\n",
    "celsius=(5/9)*(a-32)\n",
    "# interpreting the weather using the celsius scale by if statements.\n",
    "if celsius<10:\n",
    "    print(\"cold\")\n",
    "elif 10<=celsius<25:\n",
    "    print(\"pleasent\")\n",
    "elif 25<=celsius<35:\n",
    "    print(\"warm\")\n",
    "else:\n",
    "    print(\"hot\")\n",
    "\n"
   ]
  },
  {
   "cell_type": "markdown",
   "metadata": {},
   "source": [
    "# Finding the roots of the given quadratic equation ."
   ]
  },
  {
   "cell_type": "code",
   "execution_count": null,
   "metadata": {},
   "outputs": [],
   "source": [
    "# making of a quadratic equation.\n",
    "a=int(input(\"coefficiant of x^2\" ))\n",
    "b=int(input(\"coefficiant of x\"))\n",
    "c=int(input(\"the independent term is \"))\n",
    "# finding the descriminent of given quadratic equation.(D =b^2 -4ac ).\n",
    "d=(b**2)-(4*a*c)\n",
    "# if your descriminent is a negative number the quadratic equation will have imaginary roots only.\n",
    "if d<0:\n",
    "    print(\"no real roots\")\n",
    "    e=(-b)/(2*a)\n",
    "    f=((-d)**(1/2))/(2*a)\n",
    "    print(\"real part of solution is \",e )\n",
    "    print(\"imaginary part of solution is \", f )\n",
    "# if x^2 has 0 as coefficiant then it will be a linear equation not a quadratic one.\n",
    "else:\n",
    "    if a==0:\n",
    "      if b==0:\n",
    "        print(\"no equation\")\n",
    "      # but there exist a solution for linear equation.\n",
    "      else:\n",
    "       e=-(c/b)\n",
    "       print(\"not a quadratic equation\")\n",
    "       print(\"solution of your linear equation is \", e)\n",
    "    # the solution of quadratic equation is calculated using formula.\n",
    "    else:\n",
    "        e=((-b)+(d**(1/2)))/(2*a)\n",
    "        f=((-b)-(d**(1/2)))/(2*a)\n",
    "        print(\"your first solution is \",e)\n",
    "        print(\"your second solution is \",f)"
   ]
  },
  {
   "cell_type": "markdown",
   "metadata": {},
   "source": [
    "# Checking whether the given points lie on same line or not ."
   ]
  },
  {
   "cell_type": "code",
   "execution_count": null,
   "metadata": {},
   "outputs": [],
   "source": [
    "# asking user input for the coordinates of three points.\n",
    "a=int(input(\"the x coordinate of point 1\"))\n",
    "b=int(input(\"the y coordinate of point 1\"))\n",
    "c=int(input(\"the x coordinate of point 2\"))\n",
    "d=int(input(\"the y coordinate of point 2\"))\n",
    "e=int(input(\"the x coordinate of point 3\"))\n",
    "f=int(input(\"the y coordinate of point 3 \"))\n",
    "# finding the area of triangle formed by points.\n",
    "g=a*(d-f)+c*(f-b)+e*(b-d)\n",
    "# if the area of triangle is zero then they lies on same line.\n",
    "if g==0:\n",
    "    print(\"all points are on same line \")\n",
    "else:\n",
    "    print(\"not on same line\")"
   ]
  }
 ],
 "metadata": {
  "kernelspec": {
   "display_name": "Python 3",
   "language": "python",
   "name": "python3"
  },
  "language_info": {
   "codemirror_mode": {
    "name": "ipython",
    "version": 3
   },
   "file_extension": ".py",
   "mimetype": "text/x-python",
   "name": "python",
   "nbconvert_exporter": "python",
   "pygments_lexer": "ipython3",
   "version": "3.11.5"
  },
  "orig_nbformat": 4
 },
 "nbformat": 4,
 "nbformat_minor": 2
}
