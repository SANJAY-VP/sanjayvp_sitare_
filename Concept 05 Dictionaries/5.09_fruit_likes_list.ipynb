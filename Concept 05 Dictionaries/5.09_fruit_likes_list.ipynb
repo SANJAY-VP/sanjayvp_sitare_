{
 "cells": [
  {
   "cell_type": "markdown",
   "metadata": {},
   "source": [
    "# Qn9. Create a dictionary whose keys are the names of your family members and friends, and the values are the list of fruits they like to eat. Now if the user gives a fruit as input, the code should print the list of names who like this fruit.                         Write another code to print the list of people who do not like this fruit. Using this dictionary as input,                           write a code to make a consolidated list of all the fruit names present in the values of various keys. This list should not have any duplicate entries. Do not use the set() function."
   ]
  },
  {
   "cell_type": "code",
   "execution_count": null,
   "metadata": {},
   "outputs": [],
   "source": [
    "dict1={'mother':['banana','apple'],'father':['apple'],'brother':['grapes'],'sister':['apple'],'friend1':['guava','banana','apple']}\n",
    "fruit=input(\"Enter the fruit you want to check\")\n",
    "lilikes=[]\n",
    "# if the input matches fruit inside the list,corresponding key is added to the lilikes\n",
    "for keys,values in  dict1.items():\n",
    "    for i in values:\n",
    "        if i==fruit:\n",
    "# added only if it is absent in the list\n",
    "            if keys not in lilikes:\n",
    "                lilikes.append(keys)    \n",
    "print(\"list of members who likes\",fruit,\"are:\",lilikes)\n",
    "# adding those keys absent in lilikes\n",
    "lidislikes=[]\n",
    "for i in dict1:\n",
    "    if i not in lilikes:\n",
    "        lidislikes.append(i)\n",
    "print(\"list of members who does not likes\",fruit,\"are:\",lidislikes)\n",
    "# adding all list elements to fruit_list\n",
    "# adding to the fruit_list only on its absence\n",
    "fruit_list=[]\n",
    "for i in dict1.values():\n",
    "    for k in i:\n",
    "        if k not in fruit_list:\n",
    "            fruit_list.append(k)\n",
    "print(\"list of fruits in the dictionary is:\",fruit_list)"
   ]
  }
 ],
 "metadata": {
  "kernelspec": {
   "display_name": "Python 3",
   "language": "python",
   "name": "python3"
  },
  "language_info": {
   "codemirror_mode": {
    "name": "ipython",
    "version": 3
   },
   "file_extension": ".py",
   "mimetype": "text/x-python",
   "name": "python",
   "nbconvert_exporter": "python",
   "pygments_lexer": "ipython3",
   "version": "3.11.6"
  }
 },
 "nbformat": 4,
 "nbformat_minor": 2
}
