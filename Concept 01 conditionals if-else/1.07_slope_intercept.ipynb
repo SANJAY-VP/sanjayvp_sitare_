{
 "cells": [
  {
   "cell_type": "markdown",
   "metadata": {},
   "source": [
    "# Qn7. Given two points (x1, y1) and (x2, y2), find the slope and intercept of the line joining these two points (the line may be perfectly horizontal or vertical)."
   ]
  },
  {
   "cell_type": "code",
   "execution_count": 3,
   "metadata": {},
   "outputs": [
    {
     "name": "stdout",
     "output_type": "stream",
     "text": [
      "The given points are:( 1.0 , 2.0 )and( 3.0 , 4.0 )\n",
      "slope of the line formed is: 1.0\n",
      "y intercept is: 1.0\n"
     ]
    }
   ],
   "source": [
    "x1=float(input(\"what is the x coordinate of first point \"))\n",
    "y1=float(input(\"what is the y coordinate of first point\"))\n",
    "x2=float(input (\"what is the x coordinate of second point \"))\n",
    "y2=float(input(\"what is the y coordinate of second point  \"))\n",
    "print(\"The given points are:(\",x1,\",\",y1,\")and(\",x2,\",\",y2,\")\")\n",
    "# if the line is parallel to y axis it has slope infinity. \n",
    "# if both point has same y coordinates then it is parallel to y axis.   \n",
    "# avoiding the zero division error using if statement before division.\n",
    "if x1==x2:\n",
    "    print(\"slope is infinity and the line does not intercept the y axis\")\n",
    "# equation for slope in two point form.\n",
    "else:\n",
    "   slope=(y2-y1)/(x2-x1)\n",
    "   print(\"slope of the line formed is:\",slope )\n",
    "# derived formula for y intercept from  (y=mx+c).\n",
    "   num1=y1-((slope)*x1)\n",
    "   print(\"y intercept is:\",num1)"
   ]
  }
 ],
 "metadata": {
  "kernelspec": {
   "display_name": "Python 3",
   "language": "python",
   "name": "python3"
  },
  "language_info": {
   "codemirror_mode": {
    "name": "ipython",
    "version": 3
   },
   "file_extension": ".py",
   "mimetype": "text/x-python",
   "name": "python",
   "nbconvert_exporter": "python",
   "pygments_lexer": "ipython3",
   "version": "3.11.6"
  }
 },
 "nbformat": 4,
 "nbformat_minor": 2
}
