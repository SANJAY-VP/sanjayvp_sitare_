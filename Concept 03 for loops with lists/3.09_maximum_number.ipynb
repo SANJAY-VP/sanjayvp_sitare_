{
 "cells": [
  {
   "cell_type": "markdown",
   "metadata": {},
   "source": [
    "# Qn9. Given a list of numbers, find out the maximum number."
   ]
  },
  {
   "cell_type": "code",
   "execution_count": null,
   "metadata": {},
   "outputs": [],
   "source": [
    "def maximum(my_list):\n",
    "# defining a variable as first element of the list\n",
    "    maxnum=my_list[0]\n",
    "#checking for elements except the first one (it is already checked,no need of one more checking so range starts from 1)\n",
    "    for i in range(1,len(my_list)):\n",
    "# if the element is bigger,variable changes to the greater number and proceeds the loop\n",
    "        if my_list[i]>maxnum:\n",
    "            maxnum=my_list[i]\n",
    "    return maxnum\n",
    "my_list=[0,2,3,4,8,6,7,3,2,19,5,6,7,0]\n",
    "maximum(my_list)"
   ]
  }
 ],
 "metadata": {
  "kernelspec": {
   "display_name": "Python 3",
   "language": "python",
   "name": "python3"
  },
  "language_info": {
   "codemirror_mode": {
    "name": "ipython",
    "version": 3
   },
   "file_extension": ".py",
   "mimetype": "text/x-python",
   "name": "python",
   "nbconvert_exporter": "python",
   "pygments_lexer": "ipython3",
   "version": "3.11.6"
  }
 },
 "nbformat": 4,
 "nbformat_minor": 2
}
