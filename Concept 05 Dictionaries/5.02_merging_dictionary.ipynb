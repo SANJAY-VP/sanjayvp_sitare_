{
 "cells": [
  {
   "cell_type": "markdown",
   "metadata": {},
   "source": [
    "# Qn.2 Merge these two dictionaries into one using for loop \n",
    "# dict1={‘Ten’: 10, ‘Twenty’: 20, ‘Thirty’: 30}  dict2={‘Thirty’: 30, ‘Fourty’: 40, ‘Fifty’: 50}"
   ]
  },
  {
   "cell_type": "code",
   "execution_count": null,
   "metadata": {},
   "outputs": [],
   "source": [
    "dict1={'ten':10,'twenty':20,'thirty':30}\n",
    "dict2={'thirty':30,'fourty':40,'fifty':50}\n",
    "dict3={}\n",
    "# copying everything on one of the two list\n",
    "dict3=dict1.copy()\n",
    "# since both dictionary have same values corresponding to the same keys no further if condition is needed  \n",
    "for i,j in dict2.items():\n",
    "    dict3[i]=j\n",
    "print(dict3)"
   ]
  }
 ],
 "metadata": {
  "kernelspec": {
   "display_name": "Python 3",
   "language": "python",
   "name": "python3"
  },
  "language_info": {
   "codemirror_mode": {
    "name": "ipython",
    "version": 3
   },
   "file_extension": ".py",
   "mimetype": "text/x-python",
   "name": "python",
   "nbconvert_exporter": "python",
   "pygments_lexer": "ipython3",
   "version": "3.11.6"
  }
 },
 "nbformat": 4,
 "nbformat_minor": 2
}
