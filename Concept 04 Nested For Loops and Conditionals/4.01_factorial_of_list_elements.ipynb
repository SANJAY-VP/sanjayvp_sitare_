{
 "cells": [
  {
   "cell_type": "markdown",
   "metadata": {},
   "source": [
    "# Qn1. Given a list of positive integers, find the factorial of all the numbers."
   ]
  },
  {
   "cell_type": "code",
   "execution_count": null,
   "metadata": {},
   "outputs": [],
   "source": [
    "def factorial_list(my_list):\n",
    "# accesing the list through for loop \n",
    "    for i in my_list:\n",
    "# giving variable value as 1,it will not affect the final value\n",
    "        fact=1\n",
    "# iterating from 2, starting from 1 doesn't affect the value\n",
    "        for j in range(2,i+1):\n",
    "            fact=fact*j\n",
    "        print(\"factorial of\",i,\"is:\",fact)\n",
    "\n",
    "my_list=[1,2,3,4,5,6,7,8,9]\n",
    "factorial_list(my_list)"
   ]
  }
 ],
 "metadata": {
  "kernelspec": {
   "display_name": "Python 3",
   "language": "python",
   "name": "python3"
  },
  "language_info": {
   "codemirror_mode": {
    "name": "ipython",
    "version": 3
   },
   "file_extension": ".py",
   "mimetype": "text/x-python",
   "name": "python",
   "nbconvert_exporter": "python",
   "pygments_lexer": "ipython3",
   "version": "3.11.6"
  }
 },
 "nbformat": 4,
 "nbformat_minor": 2
}
