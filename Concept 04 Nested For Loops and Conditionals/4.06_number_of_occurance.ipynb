{
 "cells": [
  {
   "cell_type": "code",
   "execution_count": 1,
   "metadata": {},
   "outputs": [
    {
     "name": "stdout",
     "output_type": "stream",
     "text": [
      "{2: 2, 3: 2, 0: 2, 6: 2, 4: 1}\n"
     ]
    }
   ],
   "source": [
    "my_list=[2,3,0,3,2,6,4,6,0]\n",
    "dict1={}\n",
    "for i in my_list:\n",
    "# inorder to avoid repetitve checking,adding the checked elements into a new_list \n",
    "# checking only the elements of new_list\n",
    "    if i not in dict1.keys():\n",
    "        count=0\n",
    "# adding one to the count variable if both i and j are same\n",
    "        for j in my_list:\n",
    "            if i==j:\n",
    "                count+=1\n",
    "# dictionary has number as keys and occurance as values\n",
    "        dict1[i]=count\n",
    "print(dict1)"
   ]
  }
 ],
 "metadata": {
  "kernelspec": {
   "display_name": "Python 3",
   "language": "python",
   "name": "python3"
  },
  "language_info": {
   "codemirror_mode": {
    "name": "ipython",
    "version": 3
   },
   "file_extension": ".py",
   "mimetype": "text/x-python",
   "name": "python",
   "nbconvert_exporter": "python",
   "pygments_lexer": "ipython3",
   "version": "3.11.6"
  }
 },
 "nbformat": 4,
 "nbformat_minor": 2
}
