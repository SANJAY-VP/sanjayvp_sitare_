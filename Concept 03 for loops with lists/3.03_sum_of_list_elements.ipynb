{
 "cells": [
  {
   "cell_type": "markdown",
   "metadata": {},
   "source": [
    "# Given a list of numbers, find the sum of all the numbers."
   ]
  },
  {
   "cell_type": "code",
   "execution_count": null,
   "metadata": {},
   "outputs": [],
   "source": [
    "def summation(my_list):\n",
    "# defining variable as zero,it will not change the value of total.\n",
    "    total=0\n",
    "# elements of list gets added to the previously defined variable as we go through the loop\n",
    "    for i in my_list:\n",
    "        total+=i\n",
    "    return total\n",
    "\n",
    "my_list=[1,2,3,4,5,6,7,8,9,0]\n",
    "print(summation(my_list))"
   ]
  }
 ],
 "metadata": {
  "kernelspec": {
   "display_name": "Python 3",
   "language": "python",
   "name": "python3"
  },
  "language_info": {
   "codemirror_mode": {
    "name": "ipython",
    "version": 3
   },
   "file_extension": ".py",
   "mimetype": "text/x-python",
   "name": "python",
   "nbconvert_exporter": "python",
   "pygments_lexer": "ipython3",
   "version": "3.11.6"
  }
 },
 "nbformat": 4,
 "nbformat_minor": 2
}
