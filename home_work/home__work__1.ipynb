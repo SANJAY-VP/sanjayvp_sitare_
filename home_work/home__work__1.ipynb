{
 "cells": [
  {
   "cell_type": "code",
   "execution_count": null,
   "metadata": {},
   "outputs": [],
   "source": [
    "# to find the greatest among three integers(using and)"
   ]
  },
  {
   "cell_type": "code",
   "execution_count": 7,
   "metadata": {},
   "outputs": [
    {
     "name": "stdout",
     "output_type": "stream",
     "text": [
      "The greatest integer is: 7\n"
     ]
    }
   ],
   "source": [
    "#  Asking for user input.that of numbers to be compared.\n",
    "a=int(input(\"Enter your first integer:\"))\n",
    "b=int(input(\"Enter your second integer:\"))\n",
    "c=int(input(\"Enter your third integer:\"))\n",
    "# if a is greater than both other numbers then code stops here  \n",
    "if a>b and a>c:\n",
    "    print(\" The greatest integer is :\",a)\n",
    "#if a is not the greatest then we have to compare other numbers.then greater will be the big among these. \n",
    "elif b>c:\n",
    "    print(\"The greatest integer is :\",b)\n",
    "else:\n",
    "    print(\"The greatest integer is:\",c)"
   ]
  },
  {
   "cell_type": "markdown",
   "metadata": {},
   "source": [
    "# to find the greatest integer among the given three integers (without using and)"
   ]
  },
  {
   "cell_type": "code",
   "execution_count": null,
   "metadata": {},
   "outputs": [],
   "source": [
    "a=int(input(\"Enter your first integer:\"))\n",
    "b=int (input(\"Enter your second integer:\"))\n",
    "c=int(input(\"Enter your third integer \"))\n",
    "# checking any two numbers and then comparing them with the third one \n",
    "if a>b:\n",
    "    if a>c:\n",
    "        print(\"The greatest integer is:\",a)\n",
    "    else:\n",
    "        print(\"The greatest integer is :\",c)\n",
    "else:\n",
    "    if b>c:\n",
    "        print(\"The greatest integer is:\", b)\n",
    "    else:\n",
    "        print(\"The greatest integer is :\", c)"
   ]
  },
  {
   "cell_type": "markdown",
   "metadata": {},
   "source": [
    "# Robinson formula for converting height into weight"
   ]
  },
  {
   "cell_type": "code",
   "execution_count": 10,
   "metadata": {},
   "outputs": [
    {
     "name": "stdout",
     "output_type": "stream",
     "text": [
      "your weight is : -47.89999999999999\n"
     ]
    }
   ],
   "source": [
    "a=int(input(\"report your gender as 0 if you are male and 1 if you are female:\"))\n",
    "b=int(input(\"what is your height in (inches)?\"))\n",
    "#if you are male your weight will be interpreted using the given formula \n",
    "if a==0:\n",
    "    weight=49+1.9*(b-60)\n",
    "# if you are female your weight will be interpreted using the given formula\n",
    "else:\n",
    "    weight=52+1.6*(b-60)\n",
    "print(\"your weight is :\",weight)\n"
   ]
  }
 ],
 "metadata": {
  "kernelspec": {
   "display_name": "Python 3",
   "language": "python",
   "name": "python3"
  },
  "language_info": {
   "codemirror_mode": {
    "name": "ipython",
    "version": 3
   },
   "file_extension": ".py",
   "mimetype": "text/x-python",
   "name": "python",
   "nbconvert_exporter": "python",
   "pygments_lexer": "ipython3",
   "version": "3.11.5"
  },
  "orig_nbformat": 4
 },
 "nbformat": 4,
 "nbformat_minor": 2
}
