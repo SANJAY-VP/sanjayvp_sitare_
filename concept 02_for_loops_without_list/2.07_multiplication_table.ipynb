{
 "cells": [
  {
   "cell_type": "markdown",
   "metadata": {},
   "source": [
    "# Qn7. Given a positive integer, find the multiplication table of that integer up to 10"
   ]
  },
  {
   "cell_type": "code",
   "execution_count": null,
   "metadata": {},
   "outputs": [],
   "source": [
    "num1=int(input(\"Enter a positive integer here\"))\n",
    "multiply=1\n",
    "# since second parameter is not included in range, 11 is written on second parameter. Instead of 10\n",
    "for x in range(1,11):\n",
    "    multiply=(num1)*x\n",
    "# inorder to get the output in the form of table, writing the symbols inside print statement\n",
    "    print(num1,\"x\",x,\"=\",multiply)"
   ]
  }
 ],
 "metadata": {
  "kernelspec": {
   "display_name": "Python 3",
   "language": "python",
   "name": "python3"
  },
  "language_info": {
   "codemirror_mode": {
    "name": "ipython",
    "version": 3
   },
   "file_extension": ".py",
   "mimetype": "text/x-python",
   "name": "python",
   "nbconvert_exporter": "python",
   "pygments_lexer": "ipython3",
   "version": "3.11.6"
  }
 },
 "nbformat": 4,
 "nbformat_minor": 2
}
