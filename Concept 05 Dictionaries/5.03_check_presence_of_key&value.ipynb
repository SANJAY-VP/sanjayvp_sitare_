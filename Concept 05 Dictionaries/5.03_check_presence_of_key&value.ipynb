{
 "cells": [
  {
   "cell_type": "markdown",
   "metadata": {},
   "source": [
    "# Qn.3 Check if a key exists in a dictionary: sample_dict = {‘a’: 100, ‘b’: 200, ‘c’: 300} key_needed = ‘d’ Check if a value exists in a dictionary:sample_dict = {‘a’: 100, ‘b’: 200, ‘c’: 300} value_needed = 200"
   ]
  },
  {
   "cell_type": "code",
   "execution_count": null,
   "metadata": {},
   "outputs": [],
   "source": [
    "sample_dict={'a':100,'b':200,'c':300}\n",
    "key_needed='d'\n",
    "value_needed=200\n",
    "# checking if the key is present in the keys or not\n",
    "if key_needed in sample_dict.keys():\n",
    "    print(\"The given key is present\")\n",
    "else:\n",
    "    print(\"The given key is absent\")\n",
    "# checking if the key is present in the keys or not\n",
    "if value_needed in sample_dict.values():\n",
    "    print(\"The given value is present\")\n",
    "else:\n",
    "    print(\"The given value is absent\")"
   ]
  }
 ],
 "metadata": {
  "kernelspec": {
   "display_name": "Python 3",
   "language": "python",
   "name": "python3"
  },
  "language_info": {
   "codemirror_mode": {
    "name": "ipython",
    "version": 3
   },
   "file_extension": ".py",
   "mimetype": "text/x-python",
   "name": "python",
   "nbconvert_exporter": "python",
   "pygments_lexer": "ipython3",
   "version": "3.11.6"
  }
 },
 "nbformat": 4,
 "nbformat_minor": 2
}
