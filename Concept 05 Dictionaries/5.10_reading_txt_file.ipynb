{
 "cells": [
  {
   "cell_type": "markdown",
   "metadata": {},
   "source": [
    "# Qn 10.  Create a text file with one word in each line. The words can be repeated, i.e. the same word can come in more than one line. Read this text file in python, and create a dictionary where the key is the word and the value is the number of times it occurs in the text file."
   ]
  },
  {
   "cell_type": "code",
   "execution_count": null,
   "metadata": {},
   "outputs": [],
   "source": [
    "# accesing the file in read format\n",
    "f=open(\"C:/Users/admin/Desktop/cat.txt\",'r')\n",
    "# splitting it into words\n",
    "word_list=f.read().split()\n",
    "print(word_list)\n",
    "# create a list where no element is repeated\n",
    "list2=[]\n",
    "for i in word_list:\n",
    "    if i not in list2:\n",
    "        list2.append(i)\n",
    "# adding into a dictionary\n",
    "dict2={}\n",
    "for i in list2:\n",
    "    count=0\n",
    "# counting the number of times it is present in the list\n",
    "    for j in word_list:\n",
    "        if i==j:\n",
    "            count+=1\n",
    "    dict2[i]=count\n",
    "print(dict2)"
   ]
  }
 ],
 "metadata": {
  "kernelspec": {
   "display_name": "Python 3",
   "language": "python",
   "name": "python3"
  },
  "language_info": {
   "codemirror_mode": {
    "name": "ipython",
    "version": 3
   },
   "file_extension": ".py",
   "mimetype": "text/x-python",
   "name": "python",
   "nbconvert_exporter": "python",
   "pygments_lexer": "ipython3",
   "version": "3.11.6"
  }
 },
 "nbformat": 4,
 "nbformat_minor": 2
}
