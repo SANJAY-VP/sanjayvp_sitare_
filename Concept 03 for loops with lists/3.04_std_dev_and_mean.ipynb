{
 "cells": [
  {
   "cell_type": "markdown",
   "metadata": {},
   "source": [
    "# Qn4. Given a list of numbers, find out the mean and standard deviation."
   ]
  },
  {
   "cell_type": "code",
   "execution_count": null,
   "metadata": {},
   "outputs": [],
   "source": [
    "def std_dev(list1):\n",
    "# we can't find average and standard deviation of empty list.\n",
    "# if our list is empty,output is false\n",
    "    if len(list1)==0:\n",
    "        return \"no standard deviation and mean\", False\n",
    "    else:\n",
    "        add1=0\n",
    "        for i in list1:\n",
    "            add1+=i\n",
    "# sum of all elements divided by length gives average\n",
    "        average=add1/len(list1)\n",
    "        summation=0\n",
    "        for i in list1:\n",
    "#finding the square of difference between number and average.\n",
    "#adding the same for all elements\n",
    "            summation+=(i-average)**2\n",
    "#root of the summation per length gives standard deviation.\n",
    "        std=(summation/len(list1))**0.5\n",
    "        return std , average ,True\n",
    "\n",
    "list1=[2,2,2]\n",
    "std_dev(list1)"
   ]
  }
 ],
 "metadata": {
  "kernelspec": {
   "display_name": "Python 3",
   "language": "python",
   "name": "python3"
  },
  "language_info": {
   "codemirror_mode": {
    "name": "ipython",
    "version": 3
   },
   "file_extension": ".py",
   "mimetype": "text/x-python",
   "name": "python",
   "nbconvert_exporter": "python",
   "pygments_lexer": "ipython3",
   "version": "3.11.6"
  }
 },
 "nbformat": 4,
 "nbformat_minor": 2
}
