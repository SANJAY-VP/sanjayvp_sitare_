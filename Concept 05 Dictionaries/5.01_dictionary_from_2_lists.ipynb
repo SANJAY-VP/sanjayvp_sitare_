{
 "cells": [
  {
   "cell_type": "markdown",
   "metadata": {},
   "source": [
    "# Qn.1 Convert these two lists into a dictionary. Take the keys from the first list, and values from the second one.\n",
    "# keys = [‘Ten’, ‘Twenty’, ‘Thirty’] values = [10, 20, 30]"
   ]
  },
  {
   "cell_type": "code",
   "execution_count": null,
   "metadata": {},
   "outputs": [],
   "source": [
    "keys=['ten','twenty','thirty']\n",
    "values=[10,20,30]\n",
    "dict={}\n",
    "if len(keys)==len(values):\n",
    "# loop only till the length of any of the list because both has same number of elements\n",
    "# adding one by one\n",
    "    for i in range(len(keys)):\n",
    "    # storing the value in two variables\n",
    "        dict[keys[i]]=values[i]  \n",
    "    print(dict)\n",
    "else:\n",
    "    print(\"Not possible to combine lists of different length\")"
   ]
  }
 ],
 "metadata": {
  "kernelspec": {
   "display_name": "Python 3",
   "language": "python",
   "name": "python3"
  },
  "language_info": {
   "name": "python",
   "version": "3.11.6"
  }
 },
 "nbformat": 4,
 "nbformat_minor": 2
}
