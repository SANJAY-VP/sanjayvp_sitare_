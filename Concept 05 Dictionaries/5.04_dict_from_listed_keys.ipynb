{
 "cells": [
  {
   "cell_type": "markdown",
   "metadata": {},
   "source": [
    "# Qn.4 Create a new dictionary so that it only has the keys mentioned in another list sample_dict={“name”:“Kelly”,“age”:25,“salary:8000,“city”:“New york”}   Keys to extract  keys=[“name”, “salary”]"
   ]
  },
  {
   "cell_type": "code",
   "execution_count": null,
   "metadata": {},
   "outputs": [],
   "source": [
    "sample_dict={\"name\":\"kelly\",\"age\":25,\"salary\":8000,\"city\":\"newyork\"}\n",
    "keys=[\"name\",\"salary\"]\n",
    "dict1={}\n",
    "# iterating through the list not through dictionary. Reduces number of iteration.\n",
    "for i in keys:\n",
    "    if i in sample_dict:\n",
    "        dict1[i]=sample_dict[i]\n",
    "# writing the value of key as zero if it is absent in the dictionary.\n",
    "    else:\n",
    "        dict1[i]=0\n",
    "print(dict1)"
   ]
  }
 ],
 "metadata": {
  "kernelspec": {
   "display_name": "Python 3",
   "language": "python",
   "name": "python3"
  },
  "language_info": {
   "codemirror_mode": {
    "name": "ipython",
    "version": 3
   },
   "file_extension": ".py",
   "mimetype": "text/x-python",
   "name": "python",
   "nbconvert_exporter": "python",
   "pygments_lexer": "ipython3",
   "version": "3.11.6"
  }
 },
 "nbformat": 4,
 "nbformat_minor": 2
}
