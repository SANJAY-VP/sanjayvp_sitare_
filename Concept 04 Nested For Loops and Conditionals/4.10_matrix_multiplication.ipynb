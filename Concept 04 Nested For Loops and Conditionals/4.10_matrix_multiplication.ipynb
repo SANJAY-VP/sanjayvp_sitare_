{
 "cells": [
  {
   "cell_type": "markdown",
   "metadata": {},
   "source": [
    "# Qn10. Given two 3x3 matrices with values stored in two lists of length 9, find their product."
   ]
  },
  {
   "cell_type": "code",
   "execution_count": 1,
   "metadata": {},
   "outputs": [
    {
     "name": "stdout",
     "output_type": "stream",
     "text": [
      "[13, 12, 6, 13, 15, 10, 15, 13, 6]\n"
     ]
    }
   ],
   "source": [
    "matr1=[1,2,2,3,1,3,1,3,1]\n",
    "matr2=[1,2,2,4,3,1,2,2,1]\n",
    "\n",
    "matrresult1=[]\n",
    "matrresult2=[]\n",
    "matrresult3=[]\n",
    "transpose_matrix=[]\n",
    "matrix=[]\n",
    "# accessing all elements of first matrix,but only first column of second matrix\n",
    "for i in range(9):\n",
    "    for j in range(0,7,3):\n",
    "# ele is the product of row of second matrix and column of first matrix\n",
    "#  storing same row output in same list\n",
    "        if i<3:\n",
    "            ele=matr2[i]*matr1[j]\n",
    "            matrresult1.append(ele)\n",
    "        elif i<6:\n",
    "            ele=matr2[i]*matr1[j+1]\n",
    "            matrresult2.append(ele)\n",
    "        else:\n",
    "            ele=matr2[i]*matr1[j+2]\n",
    "            matrresult3.append(ele)\n",
    "# adding corresponding elements of row matrix,to get transpose of required matrix\n",
    "for i in range(9):\n",
    "    ele=matrresult1[i]+matrresult2[i]+matrresult3[i]\n",
    "    transpose_matrix.append(ele)\n",
    "# exchanging 3j+1 elements to get transpose\n",
    "for i in range(3):\n",
    "    for j in range(3):\n",
    "        matrix.append(transpose_matrix[3*j+i])\n",
    "print(matrix)"
   ]
  }
 ],
 "metadata": {
  "kernelspec": {
   "display_name": "Python 3",
   "language": "python",
   "name": "python3"
  },
  "language_info": {
   "codemirror_mode": {
    "name": "ipython",
    "version": 3
   },
   "file_extension": ".py",
   "mimetype": "text/x-python",
   "name": "python",
   "nbconvert_exporter": "python",
   "pygments_lexer": "ipython3",
   "version": "3.11.6"
  }
 },
 "nbformat": 4,
 "nbformat_minor": 2
}
