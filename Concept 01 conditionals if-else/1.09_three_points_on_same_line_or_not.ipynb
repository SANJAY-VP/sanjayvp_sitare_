{
 "cells": [
  {
   "cell_type": "markdown",
   "metadata": {},
   "source": [
    "# Qn09. Given three points, find out whether they lie on the same straight line or not"
   ]
  },
  {
   "cell_type": "code",
   "execution_count": null,
   "metadata": {},
   "outputs": [],
   "source": [
    "x1=int(input(\"the x coordinate of point 1\"))\n",
    "y1=int(input(\"the y coordinate of point 1\"))\n",
    "x2=int(input(\"the x coordinate of point 2\"))\n",
    "y2=int(input(\"the y coordinate of point 2\"))\n",
    "x3=int(input(\"the x coordinate of point 3\"))\n",
    "y3=int(input(\"the y coordinate of point 3 \"))\n",
    "# finding the area of triangle formed by points.\n",
    "area=x1*(y2-y3)+x2*(y3-y1)+x3*(y1-y2)\n",
    "# if the area of triangle is zero then they lies on same line.\n",
    "if area==0:\n",
    "    print(\"all points are on same line \")\n",
    "else:\n",
    "    print(\"the given points are not on same line\")"
   ]
  }
 ],
 "metadata": {
  "kernelspec": {
   "display_name": "Python 3",
   "language": "python",
   "name": "python3"
  },
  "language_info": {
   "codemirror_mode": {
    "name": "ipython",
    "version": 3
   },
   "file_extension": ".py",
   "mimetype": "text/x-python",
   "name": "python",
   "nbconvert_exporter": "python",
   "pygments_lexer": "ipython3",
   "version": "3.11.6"
  }
 },
 "nbformat": 4,
 "nbformat_minor": 2
}
