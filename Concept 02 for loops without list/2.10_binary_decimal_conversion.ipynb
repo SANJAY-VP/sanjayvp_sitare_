{
 "cells": [
  {
   "cell_type": "markdown",
   "metadata": {},
   "source": [
    "# Qn10. Given a positive integer, convert it into binary, and vice-versa."
   ]
  },
  {
   "cell_type": "code",
   "execution_count": 13,
   "metadata": {},
   "outputs": [
    {
     "name": "stdout",
     "output_type": "stream",
     "text": [
      "100\n"
     ]
    }
   ],
   "source": [
    "def dec_bin(dec):\n",
    "# defining an empty string\n",
    "    bin=\"\"\n",
    "# loop terminates when dec become 0\n",
    "    while dec>0:\n",
    "# finding the remainder on dividing by 2,and converting it to a string \n",
    "# order of addition is important since binary is read from right to left and addition to string is opposite\n",
    "        rem=dec%2\n",
    "        bin=str(rem)+bin\n",
    "        dec=dec//2\n",
    "    return bin\n",
    "print(dec_bin(4))"
   ]
  },
  {
   "cell_type": "code",
   "execution_count": 29,
   "metadata": {},
   "outputs": [
    {
     "data": {
      "text/plain": [
       "4"
      ]
     },
     "execution_count": 29,
     "metadata": {},
     "output_type": "execute_result"
    }
   ],
   "source": [
    "def bin_dec(binary):\n",
    "# defining a variable as zero \n",
    "    decimal=0\n",
    "# adding last digit to decimal and multiplying it by 2 as the loop iterates\n",
    "    for i in binary:\n",
    "        decimal=decimal*2+int(i)\n",
    "    return decimal\n",
    "# if you want output as integer return int(decimal)\n",
    "bin_dec('100')"
   ]
  }
 ],
 "metadata": {
  "kernelspec": {
   "display_name": "Python 3",
   "language": "python",
   "name": "python3"
  },
  "language_info": {
   "codemirror_mode": {
    "name": "ipython",
    "version": 3
   },
   "file_extension": ".py",
   "mimetype": "text/x-python",
   "name": "python",
   "nbconvert_exporter": "python",
   "pygments_lexer": "ipython3",
   "version": "3.11.6"
  }
 },
 "nbformat": 4,
 "nbformat_minor": 2
}
