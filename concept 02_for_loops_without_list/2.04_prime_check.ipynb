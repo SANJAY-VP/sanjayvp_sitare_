{
 "cells": [
  {
   "cell_type": "markdown",
   "metadata": {},
   "source": [
    "# Qn4. Given a positive integer, find out if it’s prime or not"
   ]
  },
  {
   "cell_type": "code",
   "execution_count": null,
   "metadata": {},
   "outputs": [],
   "source": [
    "def prime_check(num1):\n",
    "# The number 1 will not comes in the range of loop.\n",
    "    if num1==1:\n",
    "        return \"The given number is not a prime number\"\n",
    "# inorder to avoid repetitive division loop goes from 2 to root of the number\n",
    "    else:\n",
    "        for i in range(2,int(num1**0.5)+1):\n",
    "# if the number is divisible then the loop will stop. no need to check further.\n",
    "            if num1%i==0:\n",
    "                return \"The given number is not a prime number\"\n",
    "        return \"The given number is a prime number\"\n",
    "\n",
    "num1=1\n",
    "prime_check(num1) "
   ]
  }
 ],
 "metadata": {
  "kernelspec": {
   "display_name": "Python 3",
   "language": "python",
   "name": "python3"
  },
  "language_info": {
   "codemirror_mode": {
    "name": "ipython",
    "version": 3
   },
   "file_extension": ".py",
   "mimetype": "text/x-python",
   "name": "python",
   "nbconvert_exporter": "python",
   "pygments_lexer": "ipython3",
   "version": "3.11.6"
  }
 },
 "nbformat": 4,
 "nbformat_minor": 2
}
