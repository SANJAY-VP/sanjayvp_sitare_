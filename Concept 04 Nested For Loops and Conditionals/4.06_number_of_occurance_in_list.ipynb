{
 "cells": [
  {
   "cell_type": "markdown",
   "metadata": {},
   "source": [
    "# Qn6. Given a list of numbers, find out how many times each number occurs in the list."
   ]
  },
  {
   "cell_type": "code",
   "execution_count": null,
   "metadata": {},
   "outputs": [],
   "source": [
    "def num_occurance(my_list):\n",
    "    new_list=[]\n",
    "    for i in my_list:\n",
    "# inorder to avoid repetitve checking,adding the checked elements into a new_list \n",
    "# checking only the elements of new_list\n",
    "        if i not in new_list:\n",
    "            count=0\n",
    "# adding one to the count variable if both i and j are same\n",
    "            for j in my_list:\n",
    "                if i==j:\n",
    "                    count+=1\n",
    "            new_list.append(i)\n",
    "            print(i,\"occurs\",count,\"times in the list\")\n",
    "my_list=[1,2,3,3,2,6,4,5,6,0] \n",
    "num_occurance(my_list)"
   ]
  }
 ],
 "metadata": {
  "kernelspec": {
   "display_name": "Python 3",
   "language": "python",
   "name": "python3"
  },
  "language_info": {
   "codemirror_mode": {
    "name": "ipython",
    "version": 3
   },
   "file_extension": ".py",
   "mimetype": "text/x-python",
   "name": "python",
   "nbconvert_exporter": "python",
   "pygments_lexer": "ipython3",
   "version": "3.11.6"
  }
 },
 "nbformat": 4,
 "nbformat_minor": 2
}
