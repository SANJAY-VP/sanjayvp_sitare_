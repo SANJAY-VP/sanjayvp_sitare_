{
 "cells": [
  {
   "cell_type": "markdown",
   "metadata": {},
   "source": [
    "# Qn.7 Write a for loop to create another dictionary from the above where the marks are replaced by grades. Above 80 is A grade, 60–80 is B grade, 40–60 is C grade, and below 40 is F. Create another dictionary to store the max and average marks for each student. Use this dictionary to compute the final CPI/CGPA of the student. Course1 is of 4 credits, Course2 of 10 credits, and Course3 of 6 credits. Store these credits in a list. Write this dictionary as a json file, and read it back into a new dictionary."
   ]
  },
  {
   "cell_type": "code",
   "execution_count": 10,
   "metadata": {},
   "outputs": [
    {
     "name": "stdout",
     "output_type": "stream",
     "text": [
      "{'student1': ['A', 'B', 'A'], 'student2': ['A', 'C', 'A'], 'student3': ['A', 'C', 'A']}\n",
      "{'student1': [98], 'student2': [96], 'student3': [97]}\n",
      "{'student1': [82.33333333333333], 'student2': [81.66666666666667], 'student3': [76.33333333333333]}\n"
     ]
    }
   ],
   "source": [
    "# writing a function to find the maximum value of a list\n",
    "def maxim(my_list):\n",
    "    maxnum=my_list[0]\n",
    "    for i in range(1,len(my_list)):\n",
    "        if my_list[i]>maxnum:\n",
    "            maxnum=my_list[i]\n",
    "    return maxnum\n",
    "# writing a function to find the sum of elements of a list\n",
    "def summatn(list1):\n",
    "    total=0\n",
    "    for i in list1:\n",
    "        total+=i\n",
    "    return total\n",
    "# here is the given dictionary\n",
    "dict1={'student1':[98,62,87],'student2':[94,55,96],'student3':[97,43,89]}\n",
    "dictgr={}\n",
    "dictmax={}\n",
    "dictav={}\n",
    "\n",
    "for i,k in dict1.items():\n",
    "    li1=[]\n",
    "    li2=[]\n",
    "    li3=[]\n",
    "# accessing elements of list through a nested loop.\n",
    "    for j in k:\n",
    "# giving grade to the marks inside the loop,since it is to be added for every element\n",
    "        if j>80:\n",
    "            j=(\"A\")\n",
    "        elif 80>=j>60:\n",
    "            j=('B')\n",
    "        elif 60>=j>40:\n",
    "            j=('C')\n",
    "        else:\n",
    "            j=('D')\n",
    "# adding the max,average outside the loop,since we have to check only once\n",
    "        li1.append(j)\n",
    "    a=maxim(k)\n",
    "    average=summatn(k)/len(k)\n",
    "    li3.append(average)\n",
    "    li2.append(a) \n",
    "# adding elements to the dictionary  \n",
    "    dictgr[i]=li1\n",
    "    dictmax[i]=li2\n",
    "    dictav[i]=li3\n",
    "\n",
    "print(dictgr)\n",
    "print(dictmax)\n",
    "print(dictav)\n"
   ]
  },
  {
   "cell_type": "code",
   "execution_count": 13,
   "metadata": {},
   "outputs": [
    {
     "name": "stdout",
     "output_type": "stream",
     "text": [
      "{'student1': 9.5, 'student2': 9.0, 'student3': 9.0}\n"
     ]
    }
   ],
   "source": [
    "grade_dict={'A':10,'B':9,'C':8,'D':7}\n",
    "credits=[4,10,6]\n",
    "dict_cgpi={}\n",
    "\n",
    "for i,j in dictgr.items():\n",
    "    total=0\n",
    "    count =0\n",
    "# variable made zero before loop,otherwise total of every student add up. \n",
    "    for k in j:\n",
    "# access corresponding grade from dictionary(for loop iteration) and credits from list (using count)\n",
    "        a=grade_dict[k]*credits[count]\n",
    "        count+=1\n",
    "        total+=a \n",
    "# cgpi is total marks per total credits\n",
    "    dict_cgpi[i]=total/(summatn(credits))\n",
    "print(dict_cgpi)"
   ]
  }
 ],
 "metadata": {
  "kernelspec": {
   "display_name": "Python 3",
   "language": "python",
   "name": "python3"
  },
  "language_info": {
   "codemirror_mode": {
    "name": "ipython",
    "version": 3
   },
   "file_extension": ".py",
   "mimetype": "text/x-python",
   "name": "python",
   "nbconvert_exporter": "python",
   "pygments_lexer": "ipython3",
   "version": "3.11.6"
  }
 },
 "nbformat": 4,
 "nbformat_minor": 2
}
