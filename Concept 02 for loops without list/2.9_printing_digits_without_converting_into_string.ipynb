{
 "cells": [
  {
   "cell_type": "markdown",
   "metadata": {},
   "source": [
    "# Qn9. Given a positive integer, print each of its digits separately without converting the number into a string."
   ]
  },
  {
   "cell_type": "code",
   "execution_count": null,
   "metadata": {},
   "outputs": [],
   "source": [
    "import math \n",
    "num1=int(input(\"Enter a positive integer here\"))\n",
    "dgt_list=[]\n",
    "# integer part of the 'log of a number to the base 10' is equal to 'number of digits in the number-1'\n",
    "dgt=int(math.log10(num1))\n",
    "# to run the loop throughout the number of digits, 1 is added to the previous output\n",
    "for x in range(dgt+1):\n",
    "# dividing the number by 10 to get last digit \n",
    "    output=num1%10\n",
    "    num1=num1//10\n",
    "    dgt_list.append(output)\n",
    "# now the list has numbers in the reversed form\n",
    "dgt_list.reverse()\n",
    "print(dgt_list)"
   ]
  }
 ],
 "metadata": {
  "kernelspec": {
   "display_name": "Python 3",
   "language": "python",
   "name": "python3"
  },
  "language_info": {
   "codemirror_mode": {
    "name": "ipython",
    "version": 3
   },
   "file_extension": ".py",
   "mimetype": "text/x-python",
   "name": "python",
   "nbconvert_exporter": "python",
   "pygments_lexer": "ipython3",
   "version": "3.11.6"
  }
 },
 "nbformat": 4,
 "nbformat_minor": 2
}
