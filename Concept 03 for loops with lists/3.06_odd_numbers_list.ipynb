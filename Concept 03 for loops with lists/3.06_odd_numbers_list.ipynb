{
 "cells": [
  {
   "cell_type": "markdown",
   "metadata": {},
   "source": [
    "# Qn6. Given a list of numbers, find all the odd numbers in it."
   ]
  },
  {
   "cell_type": "code",
   "execution_count": null,
   "metadata": {},
   "outputs": [],
   "source": [
    "def odd_list(my_list):\n",
    "    new_list=[]\n",
    "    for i in my_list:\n",
    "#an odd number gives remainder 1 on dividing by 2\n",
    "#if it is an odd number it gets added to the new list\n",
    "        if i%2==1:\n",
    "            new_list.append(i)\n",
    "    return new_list\n",
    "my_list=[1,2,3,4,5,6,7,8,9,0]\n",
    "odd_list(my_list)"
   ]
  }
 ],
 "metadata": {
  "kernelspec": {
   "display_name": "Python 3",
   "language": "python",
   "name": "python3"
  },
  "language_info": {
   "codemirror_mode": {
    "name": "ipython",
    "version": 3
   },
   "file_extension": ".py",
   "mimetype": "text/x-python",
   "name": "python",
   "nbconvert_exporter": "python",
   "pygments_lexer": "ipython3",
   "version": "3.11.6"
  }
 },
 "nbformat": 4,
 "nbformat_minor": 2
}
