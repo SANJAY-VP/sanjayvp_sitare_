{
 "cells": [
  {
   "cell_type": "markdown",
   "metadata": {},
   "source": [
    "# Qn.8 Create a dictionary of your marks in various subjects and then sort it by its values first in ascending order, and then in descending order. Do not use any inbuilt sorting functions."
   ]
  },
  {
   "cell_type": "code",
   "execution_count": 19,
   "metadata": {},
   "outputs": [
    {
     "name": "stdout",
     "output_type": "stream",
     "text": [
      "Dictionary sorted in the ascending order is: {'ITC': 20, 'Python': 23, 'English': 34, 'Maths': 41}\n",
      "Dictionary sorted in the descending order is: {'Maths': 41, 'English': 34, 'Python': 23, 'ITC': 20}\n"
     ]
    }
   ],
   "source": [
    "dict={'Python':23,'English':34,'ITC':20,'Maths':41}\n",
    "asc_dict={}\n",
    "des_dict={}\n",
    "list1=[]\n",
    "list2=[]\n",
    "# storing keys,values in seperate lists\n",
    "for i,j in dict.items():\n",
    "    list1.append(j)\n",
    "    list2.append(i)\n",
    "# iterating loop to acess eleements of both list\n",
    "for i in range(len(list1)):\n",
    "    for j in range(i+1,len(list1)):\n",
    "# swapping the 2 elements if they are found in descending order,in both list\n",
    "        if list1[i]>=list1[j]:\n",
    "            list1[i],list1[j]=list1[j],list1[i]\n",
    "            list2[i],list2[j]=list2[j],list2[i]  \n",
    "    asc_dict[list2[i]]=list1[i]\n",
    "print(\"Dictionary sorted in the ascending order is:\",asc_dict)\n",
    "# reversing the lists and adding to the new dictionary\n",
    "list1.reverse()\n",
    "list2.reverse()\n",
    "for i in range(len(list1)):\n",
    "    des_dict[list2[i]]=list1[i]\n",
    "print(\"Dictionary sorted in the descending order is:\",des_dict)\n"
   ]
  }
 ],
 "metadata": {
  "kernelspec": {
   "display_name": "Python 3",
   "language": "python",
   "name": "python3"
  },
  "language_info": {
   "codemirror_mode": {
    "name": "ipython",
    "version": 3
   },
   "file_extension": ".py",
   "mimetype": "text/x-python",
   "name": "python",
   "nbconvert_exporter": "python",
   "pygments_lexer": "ipython3",
   "version": "3.11.6"
  }
 },
 "nbformat": 4,
 "nbformat_minor": 2
}
