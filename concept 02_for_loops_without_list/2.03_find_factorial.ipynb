{
 "cells": [
  {
   "cell_type": "markdown",
   "metadata": {},
   "source": [
    "# Qn3. Given a positive integer, find out its factorial."
   ]
  },
  {
   "cell_type": "code",
   "execution_count": 2,
   "metadata": {},
   "outputs": [
    {
     "name": "stdout",
     "output_type": "stream",
     "text": [
      "The factorial of 2 is: 2\n"
     ]
    }
   ],
   "source": [
    "num1=int(input(\"Enter a positive integer here\"))\n",
    "# Defining a variable as 1. It will not change the value of factorial.\n",
    "factorial=1\n",
    "# Range starts from 2, inorder to avoid multiplication by 1 \n",
    "for i in range(2,num1+1):\n",
    "    factorial=factorial*i\n",
    "print(\"The factorial of\",num1,\"is:\",factorial)"
   ]
  }
 ],
 "metadata": {
  "kernelspec": {
   "display_name": "Python 3",
   "language": "python",
   "name": "python3"
  },
  "language_info": {
   "codemirror_mode": {
    "name": "ipython",
    "version": 3
   },
   "file_extension": ".py",
   "mimetype": "text/x-python",
   "name": "python",
   "nbconvert_exporter": "python",
   "pygments_lexer": "ipython3",
   "version": "3.11.6"
  }
 },
 "nbformat": 4,
 "nbformat_minor": 2
}
