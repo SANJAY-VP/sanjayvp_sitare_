{
 "cells": [
  {
   "cell_type": "markdown",
   "metadata": {},
   "source": [
    "# Qn4. Given a positive integer, find out all prime numbers from 1 up to this number"
   ]
  },
  {
   "cell_type": "code",
   "execution_count": null,
   "metadata": {},
   "outputs": [],
   "source": [
    "def prime_numbers_check(number):\n",
    "    list_prime=[]\n",
    "# iterating the numbers from 2 to the given number.\n",
    "# since 1 is not a prime avoiding it in the loop.\n",
    "    for i in range(2,number+1):\n",
    "        count=0\n",
    "# checking from 2 to root of the given number,inorder to avoid repetitive divison checking.\n",
    "        for j in range(2,int(i**(0.5))+1):\n",
    "            if  i%j==0:\n",
    "                count+=1\n",
    "# if the number is not divisible by any number,count remains unchanged\n",
    "# adding those numbers to the list\n",
    "        if count==0 :\n",
    "            list_prime.append(i)\n",
    "    return list_prime\n",
    "prime_numbers_check(5)"
   ]
  }
 ],
 "metadata": {
  "kernelspec": {
   "display_name": "Python 3",
   "language": "python",
   "name": "python3"
  },
  "language_info": {
   "codemirror_mode": {
    "name": "ipython",
    "version": 3
   },
   "file_extension": ".py",
   "mimetype": "text/x-python",
   "name": "python",
   "nbconvert_exporter": "python",
   "pygments_lexer": "ipython3",
   "version": "3.11.6"
  }
 },
 "nbformat": 4,
 "nbformat_minor": 2
}
