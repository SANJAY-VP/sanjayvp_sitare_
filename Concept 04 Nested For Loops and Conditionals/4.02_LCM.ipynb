{
 "cells": [
  {
   "cell_type": "markdown",
   "metadata": {},
   "source": [
    "# Qn2. Given two numbers, find its Least Common Multiple (LCM)"
   ]
  },
  {
   "cell_type": "code",
   "execution_count": 6,
   "metadata": {},
   "outputs": [],
   "source": [
    "# defining a function to find the maximum of the given list(3.09)\n",
    "def maxim(my_list):\n",
    "    maxnum=my_list[0]\n",
    "    for i in range(1,len(my_list)):\n",
    "        if my_list[i]>maxnum:\n",
    "            maxnum=my_list[i]\n",
    "    return maxnum\n",
    "\n",
    "def lcm(num1,num2):\n",
    "    my_list=[num1,num2]\n",
    "# lcm of a pair is not defined. If one of the number is zero.\n",
    "    if num1==0 or num2==0:\n",
    "        return \"Undefined\", False\n",
    "# converting negative number into positive,to run the loop in positive range\n",
    "    for i in range(2):\n",
    "        if my_list[i]<0:\n",
    "            my_list[i]=-my_list[i]\n",
    "# looping only from maximum number to multiple of both numbers   \n",
    "    for i in range(maxim(my_list),my_list[0]*my_list[1]+1):\n",
    "# since the list elements are not changing in the case of negative number dividing by it. not by num1 or num2\n",
    "# if both are the factors of a number loop terminates\n",
    "        if i%my_list[0]==0 and i%my_list[1]==0:\n",
    "            return i,True        "
   ]
  }
 ],
 "metadata": {
  "kernelspec": {
   "display_name": "Python 3",
   "language": "python",
   "name": "python3"
  },
  "language_info": {
   "codemirror_mode": {
    "name": "ipython",
    "version": 3
   },
   "file_extension": ".py",
   "mimetype": "text/x-python",
   "name": "python",
   "nbconvert_exporter": "python",
   "pygments_lexer": "ipython3",
   "version": "3.11.6"
  }
 },
 "nbformat": 4,
 "nbformat_minor": 2
}
