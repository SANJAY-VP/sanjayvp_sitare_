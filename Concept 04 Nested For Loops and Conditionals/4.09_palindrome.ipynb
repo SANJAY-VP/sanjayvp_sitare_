{
 "cells": [
  {
   "cell_type": "markdown",
   "metadata": {},
   "source": [
    "# Qn9. Given a string input, find out if it’s a palindrome."
   ]
  },
  {
   "cell_type": "code",
   "execution_count": null,
   "metadata": {},
   "outputs": [],
   "source": [
    "def palindrome_check(str_in):\n",
    "    length=len(str_in)\n",
    "# checking if the first half is equal to second half of string, so the range is half of the total length\n",
    "    for i in range(length//2):\n",
    "# if any of the letter is not same,loop breaks there to give output as false\n",
    "        if str_in[i]!=str_in[length-i-1]:\n",
    "            return False\n",
    "# if condition is satisfied by every letter, it is a palindrome\n",
    "    return True        \n",
    "palindrome_check(\"malayalam\")"
   ]
  }
 ],
 "metadata": {
  "kernelspec": {
   "display_name": "Python 3",
   "language": "python",
   "name": "python3"
  },
  "language_info": {
   "codemirror_mode": {
    "name": "ipython",
    "version": 3
   },
   "file_extension": ".py",
   "mimetype": "text/x-python",
   "name": "python",
   "nbconvert_exporter": "python",
   "pygments_lexer": "ipython3",
   "version": "3.11.6"
  }
 },
 "nbformat": 4,
 "nbformat_minor": 2
}
