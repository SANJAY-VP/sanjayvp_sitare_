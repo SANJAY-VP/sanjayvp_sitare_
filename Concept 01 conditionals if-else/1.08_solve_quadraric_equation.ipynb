{
 "cells": [
  {
   "cell_type": "markdown",
   "metadata": {},
   "source": [
    "# Qn8. Given a quadratic equation with coefficients a, b and c, find the two solutions (may be real or complex). You should not take the square root of a negative number in your code."
   ]
  },
  {
   "cell_type": "code",
   "execution_count": null,
   "metadata": {},
   "outputs": [],
   "source": [
    "# making of a quadratic equation.\n",
    "a=float(input(\"coefficiant of x^2\"))\n",
    "b=float(input(\"coefficiant of x\"))\n",
    "c=float(input(\"the independent term is\"))\n",
    "print(\"your input is:\",a,\"x^2 +\",b,\"x +\",c)\n",
    "# finding the descriminent of given quadratic equation.(D =b^2 -4ac )\n",
    "d=(b**2)-(4*a*c)\n",
    "# if your descriminent is a negative number the quadratic equation will have imaginary roots only.\n",
    "# if a is zero then d is always positive\n",
    "if d<0:\n",
    "    print(\"no real roots\")\n",
    "    e=(-b)/(2*a)\n",
    "    f=((-d)**(1/2))/(2*a)\n",
    "    print(\"real part of solution is \",e )\n",
    "    print(\"imaginary part of solution is \", f )\n",
    "# if x^2 has 0 as coefficiant then it will be a linear equation not a quadratic one.\n",
    "else:\n",
    "    if a==0:\n",
    "      if b==0:\n",
    "        print(\"no equation is present\")\n",
    "      # but there exist a solution for linear equation.\n",
    "      else:\n",
    "       e=-(c/b)\n",
    "       print(\"not a quadratic equation\")\n",
    "       print(\"solution of your linear equation is \", e)\n",
    "    # the solution of quadratic equation is calculated using formula.\n",
    "    else:\n",
    "        e=((-b)+(d**(1/2)))/(2*a)\n",
    "        f=((-b)-(d**(1/2)))/(2*a)\n",
    "        print(\"your first solution is \",e)\n",
    "        print(\"your second solution is \",f)"
   ]
  }
 ],
 "metadata": {
  "kernelspec": {
   "display_name": "Python 3",
   "language": "python",
   "name": "python3"
  },
  "language_info": {
   "codemirror_mode": {
    "name": "ipython",
    "version": 3
   },
   "file_extension": ".py",
   "mimetype": "text/x-python",
   "name": "python",
   "nbconvert_exporter": "python",
   "pygments_lexer": "ipython3",
   "version": "3.11.6"
  }
 },
 "nbformat": 4,
 "nbformat_minor": 2
}
