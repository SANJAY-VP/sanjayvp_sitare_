{
 "cells": [
  {
   "cell_type": "markdown",
   "metadata": {},
   "source": [
    "# Qn10. Given a list of numbers, find out the index of another given number"
   ]
  },
  {
   "cell_type": "code",
   "execution_count": null,
   "metadata": {},
   "outputs": [],
   "source": [
    "my_list=[1,2,3,4,5,6,8,1,7,8,9,0,11]\n",
    "num1=float(input(\"Enter your number here:\"))\n",
    "#If the input is absent in the given list,finding index is not possible\n",
    "if num1 not in my_list:\n",
    "    print(num1,\"is absent in the list\")\n",
    "else:\n",
    "    count=0\n",
    "    for i in my_list:\n",
    "# a number can occur more than once\n",
    "# printing the count when number equals iterating value\n",
    "        if i==num1:\n",
    "            print(num1,\"ocuurs on\",count,\"th index\")\n",
    "        count+=1\n",
    "# if condition is present before count,otherwise count can't access 0th index"
   ]
  }
 ],
 "metadata": {
  "kernelspec": {
   "display_name": "Python 3",
   "language": "python",
   "name": "python3"
  },
  "language_info": {
   "codemirror_mode": {
    "name": "ipython",
    "version": 3
   },
   "file_extension": ".py",
   "mimetype": "text/x-python",
   "name": "python",
   "nbconvert_exporter": "python",
   "pygments_lexer": "ipython3",
   "version": "3.11.6"
  }
 },
 "nbformat": 4,
 "nbformat_minor": 2
}
