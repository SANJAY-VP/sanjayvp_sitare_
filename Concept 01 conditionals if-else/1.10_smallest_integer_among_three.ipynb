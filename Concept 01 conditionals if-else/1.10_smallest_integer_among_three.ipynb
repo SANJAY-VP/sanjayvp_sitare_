{
 "cells": [
  {
   "cell_type": "markdown",
   "metadata": {},
   "source": [
    "# Qn10. Given three integers, find the smallest one"
   ]
  },
  {
   "cell_type": "code",
   "execution_count": null,
   "metadata": {},
   "outputs": [],
   "source": [
    "num1=int(input(\"Enter your first integer\"))\n",
    "num2=int(input(\"Enter your second integer\"))\n",
    "num3=int(input(\"Enter your third integer\"))\n",
    "# select a number to check if it is the smaller one or not\n",
    "if num2>num1 and num3>num1:\n",
    "    print(\"smallest integer is:\",num1)\n",
    "# if the selected one is not the smallest,comparing the other two numbers \n",
    "elif num3>num2:\n",
    "    print(\"smallest integer is:\",num2)\n",
    "else:\n",
    "    print(\"smallest integer is:\",num3)\n"
   ]
  }
 ],
 "metadata": {
  "kernelspec": {
   "display_name": "Python 3",
   "language": "python",
   "name": "python3"
  },
  "language_info": {
   "codemirror_mode": {
    "name": "ipython",
    "version": 3
   },
   "file_extension": ".py",
   "mimetype": "text/x-python",
   "name": "python",
   "nbconvert_exporter": "python",
   "pygments_lexer": "ipython3",
   "version": "3.11.6"
  }
 },
 "nbformat": 4,
 "nbformat_minor": 2
}
